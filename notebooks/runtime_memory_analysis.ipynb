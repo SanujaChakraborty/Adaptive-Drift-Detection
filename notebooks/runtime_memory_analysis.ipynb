{
 "cells": [
  {
   "cell_type": "code",
   "execution_count": 2,
   "id": "2f714097",
   "metadata": {},
   "outputs": [],
   "source": [
    "import sys, os\n",
    "sys.path.append(os.path.abspath(\"../src\"))"
   ]
  },
  {
   "cell_type": "code",
   "execution_count": 3,
   "id": "0da4cfae",
   "metadata": {},
   "outputs": [
    {
     "name": "stdout",
     "output_type": "stream",
     "text": [
      "✅ Preprocessing done! 4 categorical columns encoded. Shape: (20000, 42)\n",
      "⏱️ Full retrain time: 1.63 s\n",
      "🧠 Memory used: 82.52 MB\n"
     ]
    }
   ],
   "source": [
    "import time, psutil, joblib\n",
    "from sklearn.ensemble import RandomForestClassifier\n",
    "from feature_analysis import preprocess\n",
    "from load_data import load_nsl_kdd, load_cicids\n",
    "\n",
    "# ==== Choose dataset ====\n",
    "dataset = \"nsl\"  # or \"cicids\"\n",
    "path = \"../data/NSL-KDD/KDDTrain+.txt\"  # change to CICIDS file if needed\n",
    "\n",
    "# ==== Load & preprocess ====\n",
    "if dataset == \"nsl\":\n",
    "    df = load_nsl_kdd(path, nrows=20000)\n",
    "else:\n",
    "    df = load_cicids(path, nrows=20000)\n",
    "\n",
    "X, y = preprocess(df)\n",
    "\n",
    "# ==== Full retrain measurement ====\n",
    "proc = psutil.Process()\n",
    "t0 = time.time()\n",
    "mem_before = proc.memory_info().rss / 1024 / 1024  # in MB\n",
    "\n",
    "clf = RandomForestClassifier(n_estimators=50, random_state=42, n_jobs=1)\n",
    "clf.fit(X, y)\n",
    "\n",
    "t1 = time.time()\n",
    "mem_after = proc.memory_info().rss / 1024 / 1024  # in MB\n",
    "\n",
    "# ==== Print results ====\n",
    "print(f\"⏱️ Full retrain time: {t1 - t0:.2f} s\")\n",
    "print(f\"🧠 Memory used: {mem_after - mem_before:.2f} MB\")\n",
    "\n",
    "# Optional: Save for report\n",
    "import pandas as pd\n",
    "pd.DataFrame([{\n",
    "    \"Experiment\": \"Full Retrain (Baseline)\",\n",
    "    \"Time Taken (s)\": round(t1 - t0, 2),\n",
    "    \"Memory (MB)\": round(mem_after - mem_before, 2),\n",
    "    \"Remarks\": \"Baseline (no drift adaptation)\"\n",
    "}]).to_csv(f\"../results/{dataset}_baseline_runtime.csv\", index=False)"
   ]
  },
  {
   "cell_type": "code",
   "execution_count": 5,
   "id": "71172ca6",
   "metadata": {},
   "outputs": [
    {
     "name": "stdout",
     "output_type": "stream",
     "text": [
      "Collecting river\n",
      "  Downloading river-0.22.0-cp312-cp312-win_amd64.whl.metadata (9.0 kB)\n",
      "Requirement already satisfied: numpy>=1.23.0 in c:\\users\\kiit0001\\appdata\\local\\programs\\python\\python312\\lib\\site-packages (from river) (2.1.1)\n",
      "Collecting pandas<3.0.0,>=2.2.3 (from river)\n",
      "  Downloading pandas-2.3.3-cp312-cp312-win_amd64.whl.metadata (19 kB)\n",
      "Requirement already satisfied: scipy<2.0.0,>=1.14.1 in c:\\users\\kiit0001\\appdata\\local\\programs\\python\\python312\\lib\\site-packages (from river) (1.14.1)\n",
      "Requirement already satisfied: python-dateutil>=2.8.2 in c:\\users\\kiit0001\\appdata\\local\\programs\\python\\python312\\lib\\site-packages (from pandas<3.0.0,>=2.2.3->river) (2.9.0.post0)\n",
      "Requirement already satisfied: pytz>=2020.1 in c:\\users\\kiit0001\\appdata\\local\\programs\\python\\python312\\lib\\site-packages (from pandas<3.0.0,>=2.2.3->river) (2024.2)\n",
      "Requirement already satisfied: tzdata>=2022.7 in c:\\users\\kiit0001\\appdata\\local\\programs\\python\\python312\\lib\\site-packages (from pandas<3.0.0,>=2.2.3->river) (2024.1)\n",
      "Requirement already satisfied: six>=1.5 in c:\\users\\kiit0001\\appdata\\local\\programs\\python\\python312\\lib\\site-packages (from python-dateutil>=2.8.2->pandas<3.0.0,>=2.2.3->river) (1.16.0)\n",
      "Downloading river-0.22.0-cp312-cp312-win_amd64.whl (2.2 MB)\n",
      "   ---------------------------------------- 0.0/2.2 MB ? eta -:--:--\n",
      "   ------------------- -------------------- 1.0/2.2 MB 8.4 MB/s eta 0:00:01\n",
      "   ------------------- -------------------- 1.0/2.2 MB 8.4 MB/s eta 0:00:01\n",
      "   ---------------------------------- ----- 1.8/2.2 MB 2.6 MB/s eta 0:00:01\n",
      "   -------------------------------------- - 2.1/2.2 MB 3.0 MB/s eta 0:00:01\n",
      "   ---------------------------------------- 2.2/2.2 MB 2.3 MB/s eta 0:00:00\n",
      "Downloading pandas-2.3.3-cp312-cp312-win_amd64.whl (11.0 MB)\n",
      "   ---------------------------------------- 0.0/11.0 MB ? eta -:--:--\n",
      "   ---- ----------------------------------- 1.3/11.0 MB 5.2 MB/s eta 0:00:02\n",
      "   ---------- ----------------------------- 2.9/11.0 MB 6.5 MB/s eta 0:00:02\n",
      "   ---------------- ----------------------- 4.5/11.0 MB 6.9 MB/s eta 0:00:01\n",
      "   --------------------- ------------------ 6.0/11.0 MB 7.0 MB/s eta 0:00:01\n",
      "   --------------------------- ------------ 7.6/11.0 MB 7.1 MB/s eta 0:00:01\n",
      "   ---------------------------------- ----- 9.4/11.0 MB 7.3 MB/s eta 0:00:01\n",
      "   ---------------------------------------  10.7/11.0 MB 7.3 MB/s eta 0:00:01\n",
      "   ---------------------------------------- 11.0/11.0 MB 7.1 MB/s eta 0:00:00\n",
      "Installing collected packages: pandas, river\n",
      "  Attempting uninstall: pandas\n",
      "    Found existing installation: pandas 2.2.2\n",
      "    Uninstalling pandas-2.2.2:\n",
      "      Successfully uninstalled pandas-2.2.2\n",
      "Successfully installed pandas-2.3.3 river-0.22.0\n",
      "Note: you may need to restart the kernel to use updated packages.\n"
     ]
    },
    {
     "name": "stderr",
     "output_type": "stream",
     "text": [
      "  WARNING: Failed to remove contents in a temporary directory 'C:\\Users\\KIIT0001\\AppData\\Local\\Programs\\Python\\Python312\\Lib\\site-packages\\~andas.libs'.\n",
      "  You can safely remove it manually.\n",
      "  WARNING: Failed to remove contents in a temporary directory 'C:\\Users\\KIIT0001\\AppData\\Local\\Programs\\Python\\Python312\\Lib\\site-packages\\~andas'.\n",
      "  You can safely remove it manually.\n",
      "\n",
      "[notice] A new release of pip is available: 25.0.1 -> 25.2\n",
      "[notice] To update, run: python.exe -m pip install --upgrade pip\n"
     ]
    }
   ],
   "source": [
    "pip install river"
   ]
  }
 ],
 "metadata": {
  "kernelspec": {
   "display_name": "Python 3",
   "language": "python",
   "name": "python3"
  },
  "language_info": {
   "codemirror_mode": {
    "name": "ipython",
    "version": 3
   },
   "file_extension": ".py",
   "mimetype": "text/x-python",
   "name": "python",
   "nbconvert_exporter": "python",
   "pygments_lexer": "ipython3",
   "version": "3.12.5"
  }
 },
 "nbformat": 4,
 "nbformat_minor": 5
}
