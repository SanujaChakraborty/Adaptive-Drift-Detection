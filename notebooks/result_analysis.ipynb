{
 "cells": [
  {
   "cell_type": "code",
   "execution_count": 2,
   "id": "bfc57c67",
   "metadata": {},
   "outputs": [
    {
     "name": "stdout",
     "output_type": "stream",
     "text": [
      "Collecting seaborn\n",
      "  Downloading seaborn-0.13.2-py3-none-any.whl.metadata (5.4 kB)\n",
      "Requirement already satisfied: numpy!=1.24.0,>=1.20 in c:\\users\\kiit0001\\appdata\\local\\programs\\python\\python312\\lib\\site-packages (from seaborn) (2.1.1)\n",
      "Requirement already satisfied: pandas>=1.2 in c:\\users\\kiit0001\\appdata\\local\\programs\\python\\python312\\lib\\site-packages (from seaborn) (2.2.2)\n",
      "Requirement already satisfied: matplotlib!=3.6.1,>=3.4 in c:\\users\\kiit0001\\appdata\\local\\programs\\python\\python312\\lib\\site-packages (from seaborn) (3.9.2)\n",
      "Requirement already satisfied: contourpy>=1.0.1 in c:\\users\\kiit0001\\appdata\\local\\programs\\python\\python312\\lib\\site-packages (from matplotlib!=3.6.1,>=3.4->seaborn) (1.3.0)\n",
      "Requirement already satisfied: cycler>=0.10 in c:\\users\\kiit0001\\appdata\\local\\programs\\python\\python312\\lib\\site-packages (from matplotlib!=3.6.1,>=3.4->seaborn) (0.12.1)\n",
      "Requirement already satisfied: fonttools>=4.22.0 in c:\\users\\kiit0001\\appdata\\local\\programs\\python\\python312\\lib\\site-packages (from matplotlib!=3.6.1,>=3.4->seaborn) (4.53.1)\n",
      "Requirement already satisfied: kiwisolver>=1.3.1 in c:\\users\\kiit0001\\appdata\\local\\programs\\python\\python312\\lib\\site-packages (from matplotlib!=3.6.1,>=3.4->seaborn) (1.4.7)\n",
      "Requirement already satisfied: packaging>=20.0 in c:\\users\\kiit0001\\appdata\\local\\programs\\python\\python312\\lib\\site-packages (from matplotlib!=3.6.1,>=3.4->seaborn) (24.1)\n",
      "Requirement already satisfied: pillow>=8 in c:\\users\\kiit0001\\appdata\\local\\programs\\python\\python312\\lib\\site-packages (from matplotlib!=3.6.1,>=3.4->seaborn) (10.4.0)\n",
      "Requirement already satisfied: pyparsing>=2.3.1 in c:\\users\\kiit0001\\appdata\\local\\programs\\python\\python312\\lib\\site-packages (from matplotlib!=3.6.1,>=3.4->seaborn) (3.1.4)\n",
      "Requirement already satisfied: python-dateutil>=2.7 in c:\\users\\kiit0001\\appdata\\local\\programs\\python\\python312\\lib\\site-packages (from matplotlib!=3.6.1,>=3.4->seaborn) (2.9.0.post0)\n",
      "Requirement already satisfied: pytz>=2020.1 in c:\\users\\kiit0001\\appdata\\local\\programs\\python\\python312\\lib\\site-packages (from pandas>=1.2->seaborn) (2024.2)\n",
      "Requirement already satisfied: tzdata>=2022.7 in c:\\users\\kiit0001\\appdata\\local\\programs\\python\\python312\\lib\\site-packages (from pandas>=1.2->seaborn) (2024.1)\n",
      "Requirement already satisfied: six>=1.5 in c:\\users\\kiit0001\\appdata\\local\\programs\\python\\python312\\lib\\site-packages (from python-dateutil>=2.7->matplotlib!=3.6.1,>=3.4->seaborn) (1.16.0)\n",
      "Downloading seaborn-0.13.2-py3-none-any.whl (294 kB)\n",
      "Installing collected packages: seaborn\n",
      "Successfully installed seaborn-0.13.2\n",
      "Note: you may need to restart the kernel to use updated packages.\n"
     ]
    },
    {
     "name": "stderr",
     "output_type": "stream",
     "text": [
      "\n",
      "[notice] A new release of pip is available: 25.0.1 -> 25.2\n",
      "[notice] To update, run: python.exe -m pip install --upgrade pip\n"
     ]
    }
   ],
   "source": [
    "pip install seaborn"
   ]
  },
  {
   "cell_type": "code",
   "execution_count": 4,
   "id": "6f2fd54a",
   "metadata": {},
   "outputs": [
    {
     "name": "stdout",
     "output_type": "stream",
     "text": [
      "Collecting shap\n",
      "  Downloading shap-0.48.0-cp312-cp312-win_amd64.whl.metadata (25 kB)\n",
      "Requirement already satisfied: numpy in c:\\users\\kiit0001\\appdata\\local\\programs\\python\\python312\\lib\\site-packages (from shap) (2.1.1)\n",
      "Requirement already satisfied: scipy in c:\\users\\kiit0001\\appdata\\local\\programs\\python\\python312\\lib\\site-packages (from shap) (1.14.1)\n",
      "Requirement already satisfied: scikit-learn in c:\\users\\kiit0001\\appdata\\local\\programs\\python\\python312\\lib\\site-packages (from shap) (1.6.1)\n",
      "Requirement already satisfied: pandas in c:\\users\\kiit0001\\appdata\\local\\programs\\python\\python312\\lib\\site-packages (from shap) (2.2.2)\n",
      "Collecting tqdm>=4.27.0 (from shap)\n",
      "  Using cached tqdm-4.67.1-py3-none-any.whl.metadata (57 kB)\n",
      "Requirement already satisfied: packaging>20.9 in c:\\users\\kiit0001\\appdata\\local\\programs\\python\\python312\\lib\\site-packages (from shap) (24.1)\n",
      "Collecting slicer==0.0.8 (from shap)\n",
      "  Downloading slicer-0.0.8-py3-none-any.whl.metadata (4.0 kB)\n",
      "Collecting numba>=0.54 (from shap)\n",
      "  Downloading numba-0.62.1-cp312-cp312-win_amd64.whl.metadata (2.9 kB)\n",
      "Collecting cloudpickle (from shap)\n",
      "  Downloading cloudpickle-3.1.1-py3-none-any.whl.metadata (7.1 kB)\n",
      "Requirement already satisfied: typing-extensions in c:\\users\\kiit0001\\appdata\\local\\programs\\python\\python312\\lib\\site-packages (from shap) (4.13.0)\n",
      "Collecting llvmlite<0.46,>=0.45.0dev0 (from numba>=0.54->shap)\n",
      "  Downloading llvmlite-0.45.1-cp312-cp312-win_amd64.whl.metadata (5.0 kB)\n",
      "Requirement already satisfied: colorama in c:\\users\\kiit0001\\appdata\\local\\programs\\python\\python312\\lib\\site-packages (from tqdm>=4.27.0->shap) (0.4.6)\n",
      "Requirement already satisfied: python-dateutil>=2.8.2 in c:\\users\\kiit0001\\appdata\\local\\programs\\python\\python312\\lib\\site-packages (from pandas->shap) (2.9.0.post0)\n",
      "Requirement already satisfied: pytz>=2020.1 in c:\\users\\kiit0001\\appdata\\local\\programs\\python\\python312\\lib\\site-packages (from pandas->shap) (2024.2)\n",
      "Requirement already satisfied: tzdata>=2022.7 in c:\\users\\kiit0001\\appdata\\local\\programs\\python\\python312\\lib\\site-packages (from pandas->shap) (2024.1)\n",
      "Requirement already satisfied: joblib>=1.2.0 in c:\\users\\kiit0001\\appdata\\local\\programs\\python\\python312\\lib\\site-packages (from scikit-learn->shap) (1.4.2)\n",
      "Requirement already satisfied: threadpoolctl>=3.1.0 in c:\\users\\kiit0001\\appdata\\local\\programs\\python\\python312\\lib\\site-packages (from scikit-learn->shap) (3.5.0)\n",
      "Requirement already satisfied: six>=1.5 in c:\\users\\kiit0001\\appdata\\local\\programs\\python\\python312\\lib\\site-packages (from python-dateutil>=2.8.2->pandas->shap) (1.16.0)\n",
      "Downloading shap-0.48.0-cp312-cp312-win_amd64.whl (545 kB)\n",
      "   ---------------------------------------- 0.0/545.3 kB ? eta -:--:--\n",
      "   ---------------------------------------- 545.3/545.3 kB 6.0 MB/s eta 0:00:00\n",
      "Downloading slicer-0.0.8-py3-none-any.whl (15 kB)\n",
      "Downloading numba-0.62.1-cp312-cp312-win_amd64.whl (2.7 MB)\n",
      "   ---------------------------------------- 0.0/2.7 MB ? eta -:--:--\n",
      "   ---------------------- ----------------- 1.6/2.7 MB 7.0 MB/s eta 0:00:01\n",
      "   ---------------------------------------- 2.7/2.7 MB 6.6 MB/s eta 0:00:00\n",
      "Using cached tqdm-4.67.1-py3-none-any.whl (78 kB)\n",
      "Downloading cloudpickle-3.1.1-py3-none-any.whl (20 kB)\n",
      "Downloading llvmlite-0.45.1-cp312-cp312-win_amd64.whl (38.1 MB)\n",
      "   ---------------------------------------- 0.0/38.1 MB ? eta -:--:--\n",
      "   - -------------------------------------- 1.6/38.1 MB 7.6 MB/s eta 0:00:05\n",
      "   --- ------------------------------------ 3.1/38.1 MB 7.7 MB/s eta 0:00:05\n",
      "   ----- ---------------------------------- 5.0/38.1 MB 7.9 MB/s eta 0:00:05\n",
      "   ------- -------------------------------- 6.8/38.1 MB 8.1 MB/s eta 0:00:04\n",
      "   -------- ------------------------------- 8.1/38.1 MB 7.6 MB/s eta 0:00:04\n",
      "   ---------- ----------------------------- 9.7/38.1 MB 7.6 MB/s eta 0:00:04\n",
      "   ------------ --------------------------- 11.5/38.1 MB 7.7 MB/s eta 0:00:04\n",
      "   ------------- -------------------------- 13.1/38.1 MB 7.6 MB/s eta 0:00:04\n",
      "   --------------- ------------------------ 14.7/38.1 MB 7.6 MB/s eta 0:00:04\n",
      "   ---------------- ----------------------- 16.0/38.1 MB 7.5 MB/s eta 0:00:03\n",
      "   ------------------ --------------------- 17.6/38.1 MB 7.5 MB/s eta 0:00:03\n",
      "   -------------------- ------------------- 19.1/38.1 MB 7.5 MB/s eta 0:00:03\n",
      "   --------------------- ------------------ 21.0/38.1 MB 7.6 MB/s eta 0:00:03\n",
      "   ----------------------- ---------------- 22.8/38.1 MB 7.6 MB/s eta 0:00:03\n",
      "   ------------------------- -------------- 24.6/38.1 MB 7.7 MB/s eta 0:00:02\n",
      "   --------------------------- ------------ 26.5/38.1 MB 7.8 MB/s eta 0:00:02\n",
      "   ----------------------------- ---------- 28.0/38.1 MB 7.7 MB/s eta 0:00:02\n",
      "   ------------------------------- -------- 29.6/38.1 MB 7.7 MB/s eta 0:00:02\n",
      "   -------------------------------- ------- 31.5/38.1 MB 7.7 MB/s eta 0:00:01\n",
      "   ---------------------------------- ----- 33.0/38.1 MB 7.8 MB/s eta 0:00:01\n",
      "   ------------------------------------ --- 35.1/38.1 MB 7.9 MB/s eta 0:00:01\n",
      "   -------------------------------------- - 36.7/38.1 MB 7.9 MB/s eta 0:00:01\n",
      "   ---------------------------------------  38.0/38.1 MB 7.8 MB/s eta 0:00:01\n",
      "   ---------------------------------------- 38.1/38.1 MB 7.7 MB/s eta 0:00:00\n",
      "Installing collected packages: tqdm, slicer, llvmlite, cloudpickle, numba, shap\n",
      "Successfully installed cloudpickle-3.1.1 llvmlite-0.45.1 numba-0.62.1 shap-0.48.0 slicer-0.0.8 tqdm-4.67.1\n",
      "Note: you may need to restart the kernel to use updated packages.\n"
     ]
    },
    {
     "name": "stderr",
     "output_type": "stream",
     "text": [
      "\n",
      "[notice] A new release of pip is available: 25.0.1 -> 25.2\n",
      "[notice] To update, run: python.exe -m pip install --upgrade pip\n"
     ]
    }
   ],
   "source": [
    "pip install shap"
   ]
  },
  {
   "cell_type": "code",
   "execution_count": 6,
   "id": "a9059668",
   "metadata": {},
   "outputs": [
    {
     "name": "stderr",
     "output_type": "stream",
     "text": [
      "c:\\Users\\KIIT0001\\AppData\\Local\\Programs\\Python\\Python312\\Lib\\site-packages\\tqdm\\auto.py:21: TqdmWarning: IProgress not found. Please update jupyter and ipywidgets. See https://ipywidgets.readthedocs.io/en/stable/user_install.html\n",
      "  from .autonotebook import tqdm as notebook_tqdm\n"
     ]
    }
   ],
   "source": [
    "import pandas as pd\n",
    "import matplotlib.pyplot as plt\n",
    "import seaborn as sns\n",
    "import joblib\n",
    "import shap"
   ]
  },
  {
   "cell_type": "code",
   "execution_count": 6,
   "id": "ebd52992",
   "metadata": {},
   "outputs": [],
   "source": [
    "# Set style\n",
    "sns.set(style=\"whitegrid\")"
   ]
  },
  {
   "cell_type": "code",
   "execution_count": 3,
   "id": "0046d909",
   "metadata": {},
   "outputs": [
    {
     "name": "stdout",
     "output_type": "stream",
     "text": [
      "c:\\Users\\KIIT0001\\Lti_Project\\notebooks\n"
     ]
    }
   ],
   "source": [
    "import os\n",
    "print(os.getcwd())"
   ]
  },
  {
   "cell_type": "code",
   "execution_count": 4,
   "id": "b3ee3911",
   "metadata": {},
   "outputs": [
    {
     "name": "stdout",
     "output_type": "stream",
     "text": [
      "['cicids_adaptive_model.joblib', 'cicids_results.csv', 'nsl_adaptive_model.joblib', 'nsl_results.csv']\n"
     ]
    }
   ],
   "source": [
    "print(os.listdir(\"../results\"))"
   ]
  },
  {
   "cell_type": "code",
   "execution_count": 9,
   "id": "24cb0d2a",
   "metadata": {},
   "outputs": [
    {
     "name": "stdout",
     "output_type": "stream",
     "text": [
      "NSL file size: 130 bytes\n",
      "CICIDS file size: 96 bytes\n"
     ]
    }
   ],
   "source": [
    "import os\n",
    "\n",
    "print(\"NSL file size:\", os.path.getsize(\"../results/nsl_results.csv\"), \"bytes\")\n",
    "print(\"CICIDS file size:\", os.path.getsize(\"../results/cicids_results.csv\"), \"bytes\")"
   ]
  },
  {
   "cell_type": "code",
   "execution_count": 10,
   "id": "455c7015",
   "metadata": {},
   "outputs": [
    {
     "name": "stdout",
     "output_type": "stream",
     "text": [
      "NSL-KDD Results:\n"
     ]
    },
    {
     "data": {
      "text/html": [
       "<div>\n",
       "<style scoped>\n",
       "    .dataframe tbody tr th:only-of-type {\n",
       "        vertical-align: middle;\n",
       "    }\n",
       "\n",
       "    .dataframe tbody tr th {\n",
       "        vertical-align: top;\n",
       "    }\n",
       "\n",
       "    .dataframe thead th {\n",
       "        text-align: right;\n",
       "    }\n",
       "</style>\n",
       "<table border=\"1\" class=\"dataframe\">\n",
       "  <thead>\n",
       "    <tr style=\"text-align: right;\">\n",
       "      <th></th>\n",
       "      <th>window</th>\n",
       "      <th>pre_acc</th>\n",
       "      <th>pre_f1</th>\n",
       "      <th>post_acc</th>\n",
       "      <th>post_f1</th>\n",
       "      <th>retrain_time_s</th>\n",
       "      <th>mem_diff_mb</th>\n",
       "    </tr>\n",
       "  </thead>\n",
       "  <tbody>\n",
       "    <tr>\n",
       "      <th>0</th>\n",
       "      <td>0</td>\n",
       "      <td>0.761</td>\n",
       "      <td>0.749842</td>\n",
       "      <td>0.94</td>\n",
       "      <td>0.936896</td>\n",
       "      <td>0.32</td>\n",
       "      <td>12.44</td>\n",
       "    </tr>\n",
       "  </tbody>\n",
       "</table>\n",
       "</div>"
      ],
      "text/plain": [
       "   window  pre_acc    pre_f1  post_acc   post_f1  retrain_time_s  mem_diff_mb\n",
       "0       0    0.761  0.749842      0.94  0.936896            0.32        12.44"
      ]
     },
     "metadata": {},
     "output_type": "display_data"
    },
    {
     "name": "stdout",
     "output_type": "stream",
     "text": [
      "CICIDS Results:\n"
     ]
    },
    {
     "data": {
      "text/html": [
       "<div>\n",
       "<style scoped>\n",
       "    .dataframe tbody tr th:only-of-type {\n",
       "        vertical-align: middle;\n",
       "    }\n",
       "\n",
       "    .dataframe tbody tr th {\n",
       "        vertical-align: top;\n",
       "    }\n",
       "\n",
       "    .dataframe thead th {\n",
       "        text-align: right;\n",
       "    }\n",
       "</style>\n",
       "<table border=\"1\" class=\"dataframe\">\n",
       "  <thead>\n",
       "    <tr style=\"text-align: right;\">\n",
       "      <th></th>\n",
       "      <th>window</th>\n",
       "      <th>pre_acc</th>\n",
       "      <th>pre_f1</th>\n",
       "      <th>post_acc</th>\n",
       "      <th>post_f1</th>\n",
       "      <th>retrain_time_s</th>\n",
       "      <th>mem_diff_mb</th>\n",
       "    </tr>\n",
       "  </thead>\n",
       "  <tbody>\n",
       "    <tr>\n",
       "      <th>0</th>\n",
       "      <td>0</td>\n",
       "      <td>1.0</td>\n",
       "      <td>1.0</td>\n",
       "      <td>1.0</td>\n",
       "      <td>1.0</td>\n",
       "      <td>0.62</td>\n",
       "      <td>0.26</td>\n",
       "    </tr>\n",
       "  </tbody>\n",
       "</table>\n",
       "</div>"
      ],
      "text/plain": [
       "   window  pre_acc  pre_f1  post_acc  post_f1  retrain_time_s  mem_diff_mb\n",
       "0       0      1.0     1.0       1.0      1.0            0.62         0.26"
      ]
     },
     "metadata": {},
     "output_type": "display_data"
    }
   ],
   "source": [
    "# --------------------------\n",
    "# 1. Load Results\n",
    "# --------------------------\n",
    "nsl_results = pd.read_csv(\"../results/nsl_results.csv\")\n",
    "cicids_results = pd.read_csv(\"../results/cicids_results.csv\")\n",
    "\n",
    "print(\"NSL-KDD Results:\")\n",
    "display(nsl_results.head())\n",
    "\n",
    "print(\"CICIDS Results:\")\n",
    "display(cicids_results.head())\n"
   ]
  },
  {
   "cell_type": "code",
   "execution_count": 11,
   "id": "95180b9a",
   "metadata": {},
   "outputs": [
    {
     "data": {
      "image/png": "[encoded data removed]",
      "text/plain": [
       "<Figure size 600x400 with 1 Axes>"
      ]
     },
     "metadata": {},
     "output_type": "display_data"
    }
   ],
   "source": [
    "#visual proof of adaptive improvement.\n",
    "import matplotlib.pyplot as plt\n",
    "\n",
    "# NSL-KDD\n",
    "plt.figure(figsize=(6,4))\n",
    "plt.plot(nsl_results['window'], nsl_results['pre_acc'], label='Pre Acc', marker='o')\n",
    "plt.plot(nsl_results['window'], nsl_results['post_acc'], label='Post Acc', marker='o')\n",
    "plt.title('NSL-KDD Accuracy per Window')\n",
    "plt.xlabel('Window')\n",
    "plt.ylabel('Accuracy')\n",
    "plt.legend()\n",
    "plt.show()"
   ]
  },
  {
   "cell_type": "code",
   "execution_count": 12,
   "id": "20308d5e",
   "metadata": {},
   "outputs": [
    {
     "data": {
      "image/png": "[encoded data removed]",
      "text/plain": [
       "<Figure size 600x400 with 1 Axes>"
      ]
     },
     "metadata": {},
     "output_type": "display_data"
    }
   ],
   "source": [
    "#show efficiency of your adaptive pipeline.\n",
    "plt.figure(figsize=(6,4))\n",
    "plt.plot(nsl_results['window'], nsl_results['retrain_time_s'], label='Retrain Time (s)')\n",
    "plt.plot(nsl_results['window'], nsl_results['mem_diff_mb'], label='Memory Diff (MB)')\n",
    "plt.title('NSL-KDD Retraining Efficiency')\n",
    "plt.xlabel('Window')\n",
    "plt.ylabel('Value')\n",
    "plt.legend()\n",
    "plt.show()"
   ]
  },
  {
   "cell_type": "code",
   "execution_count": 16,
   "id": "f6c6391b",
   "metadata": {},
   "outputs": [],
   "source": [
    "import glob\n",
    "\n",
    "# Recursively find all CSVs in results folder\n",
    "result_files = glob.glob(\"../results/**/*.csv\", recursive=True)\n",
    "# Then filter only runtime_summary files\n",
    "result_files = [f for f in result_files if f.endswith(\"_runtime_summary.csv\")]\n"
   ]
  },
  {
   "cell_type": "code",
   "execution_count": 2,
   "id": "94b514d0",
   "metadata": {},
   "outputs": [
    {
     "name": "stdout",
     "output_type": "stream",
     "text": [
      "dataset\n",
      "nsl       6\n",
      "cicids    5\n",
      "Name: count, dtype: int64\n"
     ]
    },
    {
     "data": {
      "text/html": [
       "<div>\n",
       "<style scoped>\n",
       "    .dataframe tbody tr th:only-of-type {\n",
       "        vertical-align: middle;\n",
       "    }\n",
       "\n",
       "    .dataframe tbody tr th {\n",
       "        vertical-align: top;\n",
       "    }\n",
       "\n",
       "    .dataframe thead th {\n",
       "        text-align: right;\n",
       "    }\n",
       "</style>\n",
       "<table border=\"1\" class=\"dataframe\">\n",
       "  <thead>\n",
       "    <tr style=\"text-align: right;\">\n",
       "      <th></th>\n",
       "      <th>window</th>\n",
       "      <th>pre_acc</th>\n",
       "      <th>pre_f1</th>\n",
       "      <th>post_acc</th>\n",
       "      <th>post_f1</th>\n",
       "      <th>retrain_time_s</th>\n",
       "      <th>mem_diff_mb</th>\n",
       "      <th>features</th>\n",
       "      <th>model</th>\n",
       "      <th>dataset</th>\n",
       "    </tr>\n",
       "  </thead>\n",
       "  <tbody>\n",
       "    <tr>\n",
       "      <th>0</th>\n",
       "      <td>0</td>\n",
       "      <td>0.999</td>\n",
       "      <td>0.9995</td>\n",
       "      <td>0.981</td>\n",
       "      <td>0.990409</td>\n",
       "      <td>0.67</td>\n",
       "      <td>-1.75</td>\n",
       "      <td>destination port,max packet length,packet leng...</td>\n",
       "      <td>LogisticRegression</td>\n",
       "      <td>cicids</td>\n",
       "    </tr>\n",
       "    <tr>\n",
       "      <th>1</th>\n",
       "      <td>0</td>\n",
       "      <td>1.000</td>\n",
       "      <td>1.0000</td>\n",
       "      <td>1.000</td>\n",
       "      <td>1.000000</td>\n",
       "      <td>0.14</td>\n",
       "      <td>0.20</td>\n",
       "      <td>destination port,max packet length,packet leng...</td>\n",
       "      <td>RandomForest</td>\n",
       "      <td>cicids</td>\n",
       "    </tr>\n",
       "    <tr>\n",
       "      <th>2</th>\n",
       "      <td>0</td>\n",
       "      <td>1.000</td>\n",
       "      <td>1.0000</td>\n",
       "      <td>1.000</td>\n",
       "      <td>1.000000</td>\n",
       "      <td>0.16</td>\n",
       "      <td>-33.29</td>\n",
       "      <td>bwd packet length mean,avg bwd segment size,pa...</td>\n",
       "      <td>unknown_model</td>\n",
       "      <td>cicids</td>\n",
       "    </tr>\n",
       "    <tr>\n",
       "      <th>3</th>\n",
       "      <td>0</td>\n",
       "      <td>1.000</td>\n",
       "      <td>1.0000</td>\n",
       "      <td>1.000</td>\n",
       "      <td>1.000000</td>\n",
       "      <td>0.21</td>\n",
       "      <td>0.43</td>\n",
       "      <td>destination port,max packet length,packet leng...</td>\n",
       "      <td>SVM</td>\n",
       "      <td>cicids</td>\n",
       "    </tr>\n",
       "    <tr>\n",
       "      <th>4</th>\n",
       "      <td>0</td>\n",
       "      <td>1.000</td>\n",
       "      <td>1.0000</td>\n",
       "      <td>1.000</td>\n",
       "      <td>1.000000</td>\n",
       "      <td>0.06</td>\n",
       "      <td>0.24</td>\n",
       "      <td>destination port,max packet length,packet leng...</td>\n",
       "      <td>XGBoost</td>\n",
       "      <td>cicids</td>\n",
       "    </tr>\n",
       "  </tbody>\n",
       "</table>\n",
       "</div>"
      ],
      "text/plain": [
       "   window  pre_acc  pre_f1  post_acc   post_f1  retrain_time_s  mem_diff_mb  \\\n",
       "0       0    0.999  0.9995     0.981  0.990409            0.67        -1.75   \n",
       "1       0    1.000  1.0000     1.000  1.000000            0.14         0.20   \n",
       "2       0    1.000  1.0000     1.000  1.000000            0.16       -33.29   \n",
       "3       0    1.000  1.0000     1.000  1.000000            0.21         0.43   \n",
       "4       0    1.000  1.0000     1.000  1.000000            0.06         0.24   \n",
       "\n",
       "                                            features               model  \\\n",
       "0  destination port,max packet length,packet leng...  LogisticRegression   \n",
       "1  destination port,max packet length,packet leng...        RandomForest   \n",
       "2  bwd packet length mean,avg bwd segment size,pa...       unknown_model   \n",
       "3  destination port,max packet length,packet leng...                 SVM   \n",
       "4  destination port,max packet length,packet leng...             XGBoost   \n",
       "\n",
       "  dataset  \n",
       "0  cicids  \n",
       "1  cicids  \n",
       "2  cicids  \n",
       "3  cicids  \n",
       "4  cicids  "
      ]
     },
     "execution_count": 2,
     "metadata": {},
     "output_type": "execute_result"
    }
   ],
   "source": [
    "import pandas as pd\n",
    "import glob\n",
    "import os\n",
    "\n",
    "# Path to all result CSVs\n",
    "result_files = glob.glob(\"../results/*_runtime_summary.csv\")\n",
    "\n",
    "all_results = {}\n",
    "\n",
    "for file in result_files:\n",
    "    df = pd.read_csv(file)\n",
    "    fname = os.path.basename(file).replace('_runtime_summary.csv', '')\n",
    "    parts = fname.split('_')\n",
    "\n",
    "    # Auto-detect which part is dataset\n",
    "    known_datasets = ['nsl', 'cicids', 'NSL', 'CICIDS']\n",
    "    if parts[0].lower() in known_datasets:\n",
    "        dataset = parts[0].lower()\n",
    "        model_name = '_'.join(parts[1:])\n",
    "    elif parts[-1].lower() in known_datasets:\n",
    "        dataset = parts[-1].lower()\n",
    "        model_name = '_'.join(parts[:-1])\n",
    "    else:\n",
    "        dataset = 'unknown_dataset'\n",
    "        model_name = '_'.join(parts)\n",
    "\n",
    "    # ✅ handle missing model name\n",
    "    df['model'] = model_name if model_name.strip() != '' else 'unknown_model'\n",
    "    df['dataset'] = dataset\n",
    "    all_results[fname] = df\n",
    "\n",
    "# Combine all results\n",
    "results_df = pd.concat(all_results.values(), ignore_index=True)\n",
    "\n",
    "# Verify dataset coverage\n",
    "print(results_df['dataset'].value_counts())\n",
    "results_df.head()\n"
   ]
  },
  {
   "cell_type": "code",
   "execution_count": 3,
   "id": "fc5c96a2",
   "metadata": {},
   "outputs": [],
   "source": [
    "results_df['dataset'] = results_df['dataset'].str.lower()"
   ]
  },
  {
   "cell_type": "code",
   "execution_count": 4,
   "id": "7a965eee",
   "metadata": {},
   "outputs": [
    {
     "data": {
      "text/html": [
       "<div>\n",
       "<style scoped>\n",
       "    .dataframe tbody tr th:only-of-type {\n",
       "        vertical-align: middle;\n",
       "    }\n",
       "\n",
       "    .dataframe tbody tr th {\n",
       "        vertical-align: top;\n",
       "    }\n",
       "\n",
       "    .dataframe thead th {\n",
       "        text-align: right;\n",
       "    }\n",
       "</style>\n",
       "<table border=\"1\" class=\"dataframe\">\n",
       "  <thead>\n",
       "    <tr style=\"text-align: right;\">\n",
       "      <th></th>\n",
       "      <th>model</th>\n",
       "      <th>dataset</th>\n",
       "    </tr>\n",
       "  </thead>\n",
       "  <tbody>\n",
       "    <tr>\n",
       "      <th>0</th>\n",
       "      <td>LogisticRegression</td>\n",
       "      <td>cicids</td>\n",
       "    </tr>\n",
       "    <tr>\n",
       "      <th>1</th>\n",
       "      <td>RandomForest</td>\n",
       "      <td>cicids</td>\n",
       "    </tr>\n",
       "    <tr>\n",
       "      <th>2</th>\n",
       "      <td>unknown_model</td>\n",
       "      <td>cicids</td>\n",
       "    </tr>\n",
       "    <tr>\n",
       "      <th>3</th>\n",
       "      <td>SVM</td>\n",
       "      <td>cicids</td>\n",
       "    </tr>\n",
       "    <tr>\n",
       "      <th>4</th>\n",
       "      <td>XGBoost</td>\n",
       "      <td>cicids</td>\n",
       "    </tr>\n",
       "    <tr>\n",
       "      <th>5</th>\n",
       "      <td>LogisticRegression</td>\n",
       "      <td>nsl</td>\n",
       "    </tr>\n",
       "    <tr>\n",
       "      <th>7</th>\n",
       "      <td>RandomForest</td>\n",
       "      <td>nsl</td>\n",
       "    </tr>\n",
       "    <tr>\n",
       "      <th>8</th>\n",
       "      <td>unknown_model</td>\n",
       "      <td>nsl</td>\n",
       "    </tr>\n",
       "    <tr>\n",
       "      <th>9</th>\n",
       "      <td>SVM</td>\n",
       "      <td>nsl</td>\n",
       "    </tr>\n",
       "    <tr>\n",
       "      <th>10</th>\n",
       "      <td>XGBoost</td>\n",
       "      <td>nsl</td>\n",
       "    </tr>\n",
       "  </tbody>\n",
       "</table>\n",
       "</div>"
      ],
      "text/plain": [
       "                 model dataset\n",
       "0   LogisticRegression  cicids\n",
       "1         RandomForest  cicids\n",
       "2        unknown_model  cicids\n",
       "3                  SVM  cicids\n",
       "4              XGBoost  cicids\n",
       "5   LogisticRegression     nsl\n",
       "7         RandomForest     nsl\n",
       "8        unknown_model     nsl\n",
       "9                  SVM     nsl\n",
       "10             XGBoost     nsl"
      ]
     },
     "execution_count": 4,
     "metadata": {},
     "output_type": "execute_result"
    }
   ],
   "source": [
    "results_df[['model', 'dataset']].drop_duplicates()"
   ]
  },
  {
   "cell_type": "code",
   "execution_count": 8,
   "id": "959ccc34",
   "metadata": {},
   "outputs": [
    {
     "data": {
      "text/plain": [
       "<Figure size 800x500 with 0 Axes>"
      ]
     },
     "metadata": {},
     "output_type": "display_data"
    },
    {
     "data": {
      "image/png": "[encoded data removed]",
      "text/plain": [
       "<Figure size 640x480 with 1 Axes>"
      ]
     },
     "metadata": {},
     "output_type": "display_data"
    }
   ],
   "source": [
    "import pandas as pd\n",
    "import matplotlib.pyplot as plt\n",
    "\n",
    "df = pd.read_csv(\"../results/compare_retraining.csv\")\n",
    "\n",
    "plt.figure(figsize=(8,5))\n",
    "df.groupby(\"retrain_type\")[[\"time_s\", \"memory_mb\"]].mean().plot.bar(rot=0)\n",
    "plt.title(\"Full vs Selective Retraining Efficiency\")\n",
    "plt.ylabel(\"Average Value\")\n",
    "plt.tight_layout()\n",
    "plt.savefig(\"../results/retraining_efficiency_plot.png\", dpi=300)\n",
    "plt.show()\n"
   ]
  },
  {
   "cell_type": "code",
   "execution_count": 1,
   "id": "883d2658",
   "metadata": {},
   "outputs": [],
   "source": [
    "from scipy.stats import ttest_rel  # or wilcoxon if non-normal\n",
    "\n",
    "def compare_full_vs_selective(clf_factory, X_ref, y_ref, X_win, y_win, top_k=12, repeats=5):\n",
    "    times_full, mems_full = [], []\n",
    "    times_sel, mems_sel = [], []\n",
    "\n",
    "    for _ in range(repeats):\n",
    "        # full\n",
    "        t_full, m_full = measure_retrain_full(clf_factory, X_ref, y_ref, X_win, y_win)\n",
    "        times_full.append(t_full); mems_full.append(m_full)\n",
    "\n",
    "        # compute selected features (use same method as pipeline)\n",
    "        psi_vals = {c: compute_psi(X_ref[c].values, X_win[c].values) for c in X_ref.columns}\n",
    "        selected = sorted(psi_vals, key=psi_vals.get, reverse=True)[:top_k]\n",
    "\n",
    "        t_sel, m_sel = measure_retrain_selective(clf_factory, X_ref, y_ref, X_win, y_win, selected)\n",
    "        times_sel.append(t_sel); mems_sel.append(m_sel)\n",
    "\n",
    "    # summarize\n",
    "    def summary(arr): return f\"{np.mean(arr):.3f} ± {np.std(arr):.3f}\"\n",
    "    print(\"Full retrain time:\", summary(times_full))\n",
    "    print(\"Selective retrain time:\", summary(times_sel))\n",
    "    print(\"Full mem:\", summary(mems_full))\n",
    "    print(\"Selective mem:\", summary(mems_sel))\n",
    "\n",
    "    # significance\n",
    "    t_t, p_t = ttest_rel(times_full, times_sel)\n",
    "    mem_t, mem_p = ttest_rel(mems_full, mems_sel)\n",
    "    print(f\"paired t-test: time p={p_t:.4f}, memory p={mem_p:.4f}\")\n"
   ]
  },
  {
   "cell_type": "code",
   "execution_count": null,
   "id": "23f5959b",
   "metadata": {},
   "outputs": [],
   "source": []
  }
 ],
 "metadata": {
  "kernelspec": {
   "display_name": "Python 3",
   "language": "python",
   "name": "python3"
  },
  "language_info": {
   "codemirror_mode": {
    "name": "ipython",
    "version": 3
   },
   "file_extension": ".py",
   "mimetype": "text/x-python",
   "name": "python",
   "nbconvert_exporter": "python",
   "pygments_lexer": "ipython3",
   "version": "3.12.5"
  }
 },
 "nbformat": 4,
 "nbformat_minor": 5
}
